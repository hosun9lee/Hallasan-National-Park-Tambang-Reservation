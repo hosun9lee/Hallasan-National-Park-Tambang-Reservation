{
 "cells": [
  {
   "cell_type": "markdown",
   "id": "8f3feb19",
   "metadata": {},
   "source": [
    "# Hallasan-National-Park-Tambang-Reservation 크롤링"
   ]
  },
  {
   "cell_type": "code",
   "execution_count": null,
   "id": "b927d27a",
   "metadata": {},
   "outputs": [],
   "source": [
    "pip install selenium"
   ]
  },
  {
   "cell_type": "code",
   "execution_count": null,
   "id": "f38d43d0",
   "metadata": {},
   "outputs": [],
   "source": [
    "import time\n",
    "#Webdriver\n",
    "from selenium import webdriver\n",
    "#id를 가지고 요소를 찾기 위해 Selenium의 By모듈 import\n",
    "from selenium.webdriver.common.by import By\n",
    "#선택 기능 위해 Select 모듈 Import\n",
    "from selenium.webdriver.support.select import Select\n",
    "from selenium.webdriver.support.ui import WebDriverWait\n",
    "from selenium.webdriver.support import expected_conditions as EC\n",
    "from selenium.webdriver.common.keys import Keys\n",
    "from selenium.webdriver.common.alert import Alert\n",
    "\n",
    "#로그인 정보 변수\n",
    "user_id=\"email address\"\n",
    "user_pw=\"password\"\n",
    "\n",
    "#driver = webdriver.Chrome(\"chromedriver\")\n",
    "#driver.get('https://visithalla.jeju.go.kr/login/login.do')\n",
    "#driver.implicitly_wait(2) #페이지 로딩 시간 고려"
   ]
  },
  {
   "cell_type": "code",
   "execution_count": null,
   "id": "dbb252ec",
   "metadata": {},
   "outputs": [],
   "source": [
    "#탐방로예약(선착순 예약)으로 이동\n",
    "driver = webdriver.Chrome(\"chromedriver\")\n",
    "driver.get(\"https://visithalla.jeju.go.kr/reservation/firstComeStep.do\")\n",
    "\n",
    "# 로그인 페이지로 이동\n",
    "driver.find_element(By.XPATH, '//*[@id=\"sub_contents\"]/div/div/div[2]/div[1]/div/div[1]/a').click()\n",
    "time.sleep(1)\n",
    "\n",
    "#새창으로 이동\n",
    "driver.switch_to.window(driver.window_handles[1])\n",
    "#driver.get_window_position(driver.window_handles[1]) 도 가능한 듯\n",
    "\n",
    "\n",
    "# 로그인 정보 입력/버튼 클릭\n",
    "driver.find_element(By.XPATH, '//*[@id=\"id_email_2\"]').send_keys(user_id)\n",
    "driver.find_element(By.XPATH, '//*[@id=\"id_password_3\"]').send_keys(user_pw)\n",
    "driver.find_element(By.XPATH, '//*[@id=\"login-form\"]/fieldset/div[8]/button[1]').click()\n",
    "\n",
    "#두번째 창으로 변경\n",
    "#driver_switch_to.frame('sub')"
   ]
  },
  {
   "cell_type": "code",
   "execution_count": null,
   "id": "1d8f5ec6",
   "metadata": {},
   "outputs": [],
   "source": [
    "driver.implicitly_wait(15)\n",
    "driver.switch_to.window(driver.window_handles[0])\n",
    "#'탐방로 선택' input field의 id 확인 / input입력 (242는 성판악, 244는 관음사)\n",
    "Select(driver.find_element(By.XPATH, '//*[@id=\"courseSeq\"]')).select_by_value(\"244\")\n",
    "\n",
    "#'탐방날짜' input field의 id 확인 / 31일 클릭\n",
    "#elm_date = driver.find_element(By.ID, \"visitDt\")\n",
    "#driver.execute_script(\"arguments[0].removeAttribute('readonly')\", elm_date)\n",
    "#driver.find_element(By.ID, 'visitDt').send_keys('2021.12.31')\n",
    "driver.find_element(By.XPATH, '//*[@id=\"reservationFrm\"]/div[1]/table/tbody/tr[2]/td/div/img').click()\n",
    "WebDriverWait(driver, 10).until(EC.visibility_of_element_located((By.XPATH, '//*[@id=\"ui-datepicker-div\"]/table/tbody/tr[5]/td[6]'))).click()\n",
    "\n",
    "\n",
    "#data-handler=\"selectDay\".select_by_value(\"31\")\n",
    "#ui-state-default =31 data-month='11' data-year='2021'\n",
    "       \n",
    "#'탐방 시간' input field의 id 확인 / input입력 (TIME1은 6시~8시, TIME2는 8~10시, TIME3는 10~12시)\n",
    "Select(driver.find_element(By.ID, 'visitTm')).select_by_value(\"TIME3\")\n",
    "\n",
    "#'예약자 제외' input field의 id 확인 / 버튼 클릭\n",
    "driver.find_element(By.XPATH, '//*[@id=\"reservationFrm\"]/div[1]/table/tbody/tr[4]/td/label/span').click()\n",
    "\n",
    "#'탐방인원' input field의 id 확인 / 드롭다운리스트 중 명수 선택 (일단 1명  default)\n",
    "\n",
    "#'예약' input field의 id 확인 / 예약 클릭\n",
    "driver.find_element(By.XPATH, '//*[@id=\"reservationFrm\"]/div[2]/button').click()\n",
    "\n",
    "#예약하시겠습니까->예 누르기\n",
    "Alert(driver).accept()\n",
    "time.sleep(2)\n",
    "#실패 or 성공 메세지 표시시 창 닫기\n",
    "Alert(driver).accept()\n"
   ]
  },
  {
   "cell_type": "code",
   "execution_count": null,
   "id": "8db9e7d1",
   "metadata": {},
   "outputs": [],
   "source": [
    "#예약버튼을 2초 간격으로 300번 누르기\n",
    "for i in range (0,300):\n",
    "    time.sleep(1)\n",
    "    driver.find_element(By.XPATH, '//*[@id=\"reservationFrm\"]/div[2]/button').click()\n",
    "    Alert(driver).accept()\n",
    "    time.sleep(1)\n",
    "\n",
    "    if i==5:\n",
    "        break"
   ]
  }
 ],
 "metadata": {
  "kernelspec": {
   "display_name": "Python 3",
   "language": "python",
   "name": "python3"
  },
  "language_info": {
   "codemirror_mode": {
    "name": "ipython",
    "version": 3
   },
   "file_extension": ".py",
   "mimetype": "text/x-python",
   "name": "python",
   "nbconvert_exporter": "python",
   "pygments_lexer": "ipython3",
   "version": "3.8.8"
  }
 },
 "nbformat": 4,
 "nbformat_minor": 5
}
